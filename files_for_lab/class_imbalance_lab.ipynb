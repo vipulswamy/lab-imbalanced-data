{
 "cells": [
  {
   "cell_type": "markdown",
   "id": "496d7bf7",
   "metadata": {},
   "source": [
    "#### 1.Load the dataset and explore the variables."
   ]
  },
  {
   "cell_type": "markdown",
   "id": "c0a9ec30",
   "metadata": {},
   "source": [
    "#### 2.We will try to predict variable Churn using a logistic regression on variables tenure, SeniorCitizen,MonthlyCharges."
   ]
  },
  {
   "cell_type": "markdown",
   "id": "06070c4a",
   "metadata": {},
   "source": [
    "#### 3.Extract the target variable."
   ]
  },
  {
   "cell_type": "code",
   "execution_count": null,
   "id": "ce192a01",
   "metadata": {},
   "outputs": [],
   "source": []
  }
 ],
 "metadata": {
  "kernelspec": {
   "display_name": "Python 3 (ipykernel)",
   "language": "python",
   "name": "python3"
  },
  "language_info": {
   "codemirror_mode": {
    "name": "ipython",
    "version": 3
   },
   "file_extension": ".py",
   "mimetype": "text/x-python",
   "name": "python",
   "nbconvert_exporter": "python",
   "pygments_lexer": "ipython3",
   "version": "3.9.12"
  }
 },
 "nbformat": 4,
 "nbformat_minor": 5
}
